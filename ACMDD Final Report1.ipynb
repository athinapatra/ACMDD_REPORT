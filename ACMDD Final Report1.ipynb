{
 "cells": [
  {
   "cell_type": "markdown",
   "id": "a4136a21",
   "metadata": {},
   "source": [
    "As a first step of designing a new ligand for our target JNK-1, the structure sequence of JNK-1 was acquired from UniProt (http://www.uniprot.org/) (UniProt ID: P45983). From UniProt additional information was also obtained, including the sequence length: 427 amino acids, the status: UniProtKB reviewed (Swiss-Prot), the Protein Existence: Evidence at protein level and finally the mass (kDa): 48,296. Moreover, BLAST (Basic Local Alignment Search Tool, under ‘Advanced’) was used in order to find similar targets based on sequence in the same species (Homo sapiens), and the first hit that is not an isoform of JNK-1 was used for the alignment part of the study. By doing this search, ‘JNK2/3 in complex with 3-(4-{[(2-chlorophenyl)carbamoyl]amino}-1H-pyrazol-1-yl)-N-(2-methylpyridin-4-yl)benzamide [Homo sapiens]’ was used as the similar target, with sequence ID: 4w4v and length of 366 amino acids."
   ]
  },
  {
   "cell_type": "code",
   "execution_count": 12,
   "id": "cfef62c9",
   "metadata": {},
   "outputs": [],
   "source": [
    "# First we import the right python modules.\n",
    "import nglview\n",
    "import os\n",
    "import shutil\n",
    "from Bio.PDB import PDBParser, PDBIO, Select,  PDBList, MMCIFParser, StructureAlignment\n",
    "import Bio.Align\n",
    "import os\n",
    "from pathlib import Path\n",
    "import rdkit"
   ]
  },
  {
   "cell_type": "code",
   "execution_count": 13,
   "id": "b8676112",
   "metadata": {},
   "outputs": [
    {
     "ename": "ModuleNotFoundError",
     "evalue": "No module named 'scripts'",
     "output_type": "error",
     "traceback": [
      "\u001b[0;31m---------------------------------------------------------------------------\u001b[0m",
      "\u001b[0;31mModuleNotFoundError\u001b[0m                       Traceback (most recent call last)",
      "Input \u001b[0;32mIn [13]\u001b[0m, in \u001b[0;36m<cell line: 2>\u001b[0;34m()\u001b[0m\n\u001b[1;32m      1\u001b[0m \u001b[38;5;66;03m# and the local scripts\u001b[39;00m\n\u001b[0;32m----> 2\u001b[0m \u001b[38;5;28;01mfrom\u001b[39;00m \u001b[38;5;21;01mscripts\u001b[39;00m \u001b[38;5;28;01mimport\u001b[39;00m viewer\n\u001b[1;32m      3\u001b[0m \u001b[38;5;28;01mfrom\u001b[39;00m \u001b[38;5;21;01mscripts\u001b[39;00m \u001b[38;5;28;01mimport\u001b[39;00m bio_align\n",
      "\u001b[0;31mModuleNotFoundError\u001b[0m: No module named 'scripts'"
     ]
    }
   ],
   "source": [
    "# and the local scripts\n",
    "from scripts import viewer\n",
    "from scripts import bio_align"
   ]
  },
  {
   "cell_type": "code",
   "execution_count": 14,
   "id": "362d0386",
   "metadata": {},
   "outputs": [
    {
     "name": "stdout",
     "output_type": "stream",
     "text": [
      "Directory already exists\n"
     ]
    }
   ],
   "source": [
    "HOMEDIR = str(Path.home())\n",
    "os.chdir(HOMEDIR)\n",
    "# We need to check whether the directory is there\n",
    "try:\n",
    "    os.mkdir('Bioinformatics')\n",
    "except:\n",
    "    print(\"Directory already exists\")\n",
    "os.chdir('Bioinformatics')"
   ]
  },
  {
   "cell_type": "code",
   "execution_count": 15,
   "id": "d6104771",
   "metadata": {},
   "outputs": [
    {
     "data": {
      "application/vnd.jupyter.widget-view+json": {
       "model_id": "0c58e41171c047e59fbb20d8e263e4a9",
       "version_major": 2,
       "version_minor": 0
      },
      "text/plain": [
       "NGLWidget()"
      ]
     },
     "metadata": {},
     "output_type": "display_data"
    }
   ],
   "source": [
    "# In order to retrieve the 3D structure of our protein we used the pdb code of JNK-1, 2GMX. \n",
    "\n",
    "TARGET_PDB_ID = \"2gmx\" \n",
    "\n",
    "import nglview\n",
    "view = nglview.show_pdbid(TARGET_PDB_ID)\n",
    "view"
   ]
  },
  {
   "cell_type": "code",
   "execution_count": 16,
   "id": "841037a9",
   "metadata": {},
   "outputs": [
    {
     "data": {
      "application/vnd.jupyter.widget-view+json": {
       "model_id": "0c58e41171c047e59fbb20d8e263e4a9",
       "version_major": 2,
       "version_minor": 0
      },
      "text/plain": [
       "NGLWidget(n_components=1)"
      ]
     },
     "metadata": {},
     "output_type": "display_data"
    }
   ],
   "source": [
    "# Moreover, in order to design new drugs it is crucial to investigate the interactions of the co-crystalized ligand \n",
    "# with JNK-1. For this, we retrieved the RCSB code of the ligand, 877.\n",
    "\n",
    "LIGAND_CODE = \"877\" \n",
    "\n",
    "view.center(LIGAND_CODE)\n",
    "view"
   ]
  },
  {
   "cell_type": "code",
   "execution_count": 17,
   "id": "7e98e507",
   "metadata": {},
   "outputs": [
    {
     "name": "stdout",
     "output_type": "stream",
     "text": [
      "Structure exists: '2gmx/2gmx.cif' \n"
     ]
    },
    {
     "name": "stderr",
     "output_type": "stream",
     "text": [
      "WARNING: The default download format has changed from PDB to PDBx/mmCif\n"
     ]
    },
    {
     "data": {
      "text/plain": [
       "'2gmx/2gmx.cif'"
      ]
     },
     "execution_count": 17,
     "metadata": {},
     "output_type": "execute_result"
    }
   ],
   "source": [
    "# In order to observe the most important interactions between the ligand and the protein, \n",
    "# we visualize the interactions within 5 Angstrom of the ligand. \n",
    "\n",
    "# For this step we downloaded the coordinates of 2GMX from RCSB.\n",
    "\n",
    "pdbl = PDBList()\n",
    "pdbl.retrieve_pdb_file(TARGET_PDB_ID, pdir=TARGET_PDB_ID)"
   ]
  },
  {
   "cell_type": "code",
   "execution_count": 18,
   "id": "387a2ad3",
   "metadata": {},
   "outputs": [
    {
     "name": "stderr",
     "output_type": "stream",
     "text": [
      "/opt/conda/lib/python3.9/site-packages/Bio/PDB/StructureBuilder.py:89: PDBConstructionWarning: WARNING: Chain A is discontinuous at line 5892.\n",
      "  warnings.warn(\n",
      "/opt/conda/lib/python3.9/site-packages/Bio/PDB/StructureBuilder.py:89: PDBConstructionWarning: WARNING: Chain B is discontinuous at line 5929.\n",
      "  warnings.warn(\n"
     ]
    }
   ],
   "source": [
    "# Next, we generate a BioPython object from the coordinates, which we can use for various tasks.\n",
    "parser = MMCIFParser()\n",
    "structure = parser.get_structure(\"TARGETPROT\",'{}/{}.cif'.format(TARGET_PDB_ID,TARGET_PDB_ID))"
   ]
  },
  {
   "cell_type": "code",
   "execution_count": 19,
   "id": "158e85d6",
   "metadata": {},
   "outputs": [
    {
     "data": {
      "text/plain": [
       "'/home/jovyan/Bioinformatics'"
      ]
     },
     "execution_count": 19,
     "metadata": {},
     "output_type": "execute_result"
    }
   ],
   "source": [
    "#had to capitalize gmx in the file bioinformatics so that it runs\n",
    "\n",
    "os. getcwd()"
   ]
  },
  {
   "cell_type": "code",
   "execution_count": 20,
   "id": "bf089ae3",
   "metadata": {},
   "outputs": [
    {
     "data": {
      "text/plain": [
       "'2gmx_prepped.pdb'"
      ]
     },
     "execution_count": 20,
     "metadata": {},
     "output_type": "execute_result"
    }
   ],
   "source": [
    "class ResSelect(Select):\n",
    "    def accept_residue(self, residue):\n",
    "        if residue.get_resname() == LIGAND_CODE:\n",
    "            return 1\n",
    "        else:\n",
    "            return 0\n",
    "\n",
    "class NonHetSelect(Select):\n",
    "    def accept_residue(self, residue):\n",
    "        return 1 if residue.id[0] == \" \" else 0\n",
    "\n",
    "io = PDBIO()\n",
    "io.set_structure(structure)\n",
    "io.save(\"ligand-{}.pdb\".format(LIGAND_CODE), ResSelect())\n",
    "io.save(\"protein-{}.pdb\".format(TARGET_PDB_ID), NonHetSelect())\n",
    "\n",
    "\n",
    "\n",
    "command = '../CBR_teaching/bin/lepro protein-{}.pdb'.format(TARGET_PDB_ID)\n",
    "os.system(command)\n",
    "shutil.move('pro.pdb','{}_prepped.pdb'.format(TARGET_PDB_ID))"
   ]
  },
  {
   "cell_type": "code",
   "execution_count": 24,
   "id": "e75a0f92",
   "metadata": {},
   "outputs": [
    {
     "ename": "NameError",
     "evalue": "name 'viewer' is not defined",
     "output_type": "error",
     "traceback": [
      "\u001b[0;31m---------------------------------------------------------------------------\u001b[0m",
      "\u001b[0;31mNameError\u001b[0m                                 Traceback (most recent call last)",
      "Input \u001b[0;32mIn [24]\u001b[0m, in \u001b[0;36m<cell line: 18>\u001b[0;34m()\u001b[0m\n\u001b[1;32m     15\u001b[0m     view \u001b[38;5;241m=\u001b[39m nglview\u001b[38;5;241m.\u001b[39mshow_file(f, ext\u001b[38;5;241m=\u001b[39m\u001b[38;5;124m\"\u001b[39m\u001b[38;5;124mpdb\u001b[39m\u001b[38;5;124m\"\u001b[39m)\n\u001b[1;32m     17\u001b[0m view\u001b[38;5;241m.\u001b[39mcenter(LIGAND_CODE)\n\u001b[0;32m---> 18\u001b[0m \u001b[43mviewer\u001b[49m\u001b[38;5;241m.\u001b[39mshow_residues_around(view, selection\u001b[38;5;241m=\u001b[39mLIGAND_CODE)\n\u001b[1;32m     19\u001b[0m view\n\u001b[1;32m     21\u001b[0m \u001b[38;5;66;03m#And part of the final steps of the alignment we found the off-target pdb ID 4w4v which corresponds to \u001b[39;00m\n\u001b[1;32m     22\u001b[0m \u001b[38;5;66;03m#the first sequence that is not an isoform of JNK-1, retrieved from BLAST \u001b[39;00m\n\u001b[1;32m     23\u001b[0m \u001b[38;5;66;03m#(JNK2/3 in complex with 3-(4-{[(2-chlorophenyl)carbamoyl]amino}-1H-pyrazol-1-yl)-N-(2 -methylpyridin-4-yl)benzamide \u001b[39;00m\n\u001b[1;32m     24\u001b[0m \u001b[38;5;66;03m#[Homo sapiens].\u001b[39;00m\n\u001b[1;32m     25\u001b[0m \u001b[38;5;66;03m#4w4v\u001b[39;00m\n",
      "\u001b[0;31mNameError\u001b[0m: name 'viewer' is not defined"
     ]
    }
   ],
   "source": [
    "# combine protein and ligand files\n",
    "filenames = [\n",
    "'{}_prepped.pdb'.format(TARGET_PDB_ID),\n",
    "\"ligand-{}.pdb\".format(LIGAND_CODE)\n",
    "]\n",
    "with open('{}-complex.pdb'.format(TARGET_PDB_ID), 'w') as outfile:\n",
    "    for fname in filenames:\n",
    "        with open(fname) as infile:\n",
    "            for line in infile:\n",
    "                if not \"END\" in line:\n",
    "                    outfile.write(line)\n",
    "\n",
    "\n",
    "with open('{}-complex.pdb'.format(TARGET_PDB_ID)) as f:\n",
    "    view = nglview.show_file(f, ext=\"pdb\")\n",
    "    \n",
    "view.center(LIGAND_CODE)\n",
    "viewer.show_residues_around(view, selection=LIGAND_CODE)\n",
    "view\n",
    "\n",
    "#And part of the final steps of the alignment we found the off-target pdb ID 4w4v which corresponds to \n",
    "#the first sequence that is not an isoform of JNK-1, retrieved from BLAST \n",
    "#(JNK2/3 in complex with 3-(4-{[(2-chlorophenyl)carbamoyl]amino}-1H-pyrazol-1-yl)-N-(2 -methylpyridin-4-yl)benzamide \n",
    "#[Homo sapiens].\n",
    "#4w4v\n",
    "\n",
    "OFF_TARGET_PDB_ID = \"4w4v\" \n",
    "OFF_TARGET_LIGAND = \"3H8\"  \n",
    "\n",
    "pdbl = PDBList()\n",
    "pdbl.retrieve_pdb_file(OFF_TARGET_PDB_ID, pdir=OFF_TARGET_PDB_ID)\n",
    "\n",
    "parser = MMCIFParser()\n",
    "structure = parser.get_structure(\"TARGETPROT\",'{}/{}.cif'.format(OFF_TARGET_PDB_ID,OFF_TARGET_PDB_ID))\n",
    "\n",
    "class ResSelect(Select):\n",
    "    def accept_residue(self, residue):\n",
    "        if residue.get_resname() == OFF_TARGET_LIGAND:\n",
    "            return 1\n",
    "        else:\n",
    "            return 0\n",
    "\n",
    "io = PDBIO()\n",
    "io.set_structure(structure)\n",
    "io.save(\"ligand-{}.pdb\".format(OFF_TARGET_LIGAND), ResSelect())\n",
    "io.save(\"protein-{}.pdb\".format(OFF_TARGET_PDB_ID), NonHetSelect())\n",
    "\n",
    "\n",
    "command = '../CBR_teaching/bin/lepro protein-{}.pdb'.format(OFF_TARGET_PDB_ID)\n",
    "os.system(command)\n",
    "shutil.move('pro.pdb','{}_prepped.pdb'.format(OFF_TARGET_PDB_ID))\n",
    "\n",
    "\n",
    "# combine protein and ligand files\n",
    "filenames = [\n",
    "'{}_prepped.pdb'.format(OFF_TARGET_PDB_ID),\n",
    "\"ligand-{}.pdb\".format(OFF_TARGET_LIGAND)\n",
    "]\n",
    "with open('{}-complex.pdb'.format(OFF_TARGET_PDB_ID), 'w') as outfile:\n",
    "    for fname in filenames:\n",
    "        with open(fname) as infile:\n",
    "            for line in infile:\n",
    "                if not \"END\" in line:\n",
    "                    outfile.write(line)\n",
    "\n",
    "\n",
    "with open('{}-complex.pdb'.format(OFF_TARGET_PDB_ID)) as f:\n",
    "    view = nglview.show_file(f, ext=\"pdb\")\n",
    "    \n",
    "view.center(OFF_TARGET_LIGAND)\n",
    "viewer.show_residues_around(view, selection=OFF_TARGET_LIGAND)\n",
    "view\n",
    "\n",
    "#We also replaced the names of the first and second structure\n",
    "\n",
    "from Bio import pairwise2\n",
    "from Bio.Seq import Seq \n",
    "from Bio.SeqRecord import SeqRecord\n",
    "from Bio.Align import MultipleSeqAlignment\n",
    "\n",
    "# Get the structures\n",
    "PDBCODE_1 = '2gmx' # Name of the first structure\n",
    "PDBCODE_2 = '4w4v' # Name of the second structure\n",
    "\n",
    "import requests\n",
    "data = requests.get(f'https://www.ebi.ac.uk/pdbe/api/pdb/entry/molecules/{PDBCODE_1}').json()[PDBCODE_1.lower()]\n",
    "SEQ1 = (data[0]['sequence'])\n",
    "SEQ1 = Seq(SEQ1)\n",
    "\n",
    "data = requests.get(f'https://www.ebi.ac.uk/pdbe/api/pdb/entry/molecules/{PDBCODE_2}').json()[PDBCODE_2.lower()]\n",
    "SEQ2 = (data[0]['sequence'])\n",
    "SEQ2 = Seq(SEQ2)\n",
    "\n",
    "alignments = pairwise2.align.globalxx(SEQ1, SEQ2)\n",
    "\n",
    "for align1, align2, score, begin, end in alignments:\n",
    "    filename = \"alignment.fasta\"\n",
    "    with open(filename, \"w\") as handle:\n",
    "        handle.write(\">SEQ1\\n%s\\n>SEQ2\\n%s\\n\" % (align1, align2))\n",
    "\n",
    "print(alignments[0])\n",
    "\n",
    "bio_align.run('{}-complex.pdb'.format(TARGET_PDB_ID),'{}-complex.pdb'.format(OFF_TARGET_PDB_ID))"
   ]
  },
  {
   "cell_type": "code",
   "execution_count": 25,
   "id": "ea89d252",
   "metadata": {},
   "outputs": [
    {
     "ename": "NameError",
     "evalue": "name 'OFF_TARGET_PDB_ID' is not defined",
     "output_type": "error",
     "traceback": [
      "\u001b[0;31m---------------------------------------------------------------------------\u001b[0m",
      "\u001b[0;31mNameError\u001b[0m                                 Traceback (most recent call last)",
      "Input \u001b[0;32mIn [25]\u001b[0m, in \u001b[0;36m<cell line: 3>\u001b[0;34m()\u001b[0m\n\u001b[1;32m      1\u001b[0m \u001b[38;5;66;03m# combine protein and ligand files\u001b[39;00m\n\u001b[1;32m      2\u001b[0m filenames \u001b[38;5;241m=\u001b[39m [\n\u001b[1;32m      3\u001b[0m \u001b[38;5;124m'\u001b[39m\u001b[38;5;132;01m{}\u001b[39;00m\u001b[38;5;124m-complex.pdb\u001b[39m\u001b[38;5;124m'\u001b[39m\u001b[38;5;241m.\u001b[39mformat(TARGET_PDB_ID,TARGET_PDB_ID),\n\u001b[0;32m----> 4\u001b[0m \u001b[38;5;124m\"\u001b[39m\u001b[38;5;132;01m{}\u001b[39;00m\u001b[38;5;124m-complex_transformed.pdb\u001b[39m\u001b[38;5;124m\"\u001b[39m\u001b[38;5;241m.\u001b[39mformat(\u001b[43mOFF_TARGET_PDB_ID\u001b[49m)\n\u001b[1;32m      5\u001b[0m ]\n\u001b[1;32m      6\u001b[0m \u001b[38;5;28;01mwith\u001b[39;00m \u001b[38;5;28mopen\u001b[39m(\u001b[38;5;124m'\u001b[39m\u001b[38;5;132;01m{}\u001b[39;00m\u001b[38;5;124m-\u001b[39m\u001b[38;5;132;01m{}\u001b[39;00m\u001b[38;5;124m-merged.pdb\u001b[39m\u001b[38;5;124m'\u001b[39m\u001b[38;5;241m.\u001b[39mformat(TARGET_PDB_ID,OFF_TARGET_PDB_ID), \u001b[38;5;124m'\u001b[39m\u001b[38;5;124mw\u001b[39m\u001b[38;5;124m'\u001b[39m) \u001b[38;5;28;01mas\u001b[39;00m outfile:\n\u001b[1;32m      7\u001b[0m     \u001b[38;5;28;01mfor\u001b[39;00m fname \u001b[38;5;129;01min\u001b[39;00m filenames:\n",
      "\u001b[0;31mNameError\u001b[0m: name 'OFF_TARGET_PDB_ID' is not defined"
     ]
    }
   ],
   "source": [
    "# combine protein and ligand files\n",
    "filenames = [\n",
    "'{}-complex.pdb'.format(TARGET_PDB_ID,TARGET_PDB_ID),\n",
    "\"{}-complex_transformed.pdb\".format(OFF_TARGET_PDB_ID)\n",
    "]\n",
    "with open('{}-{}-merged.pdb'.format(TARGET_PDB_ID,OFF_TARGET_PDB_ID), 'w') as outfile:\n",
    "    for fname in filenames:\n",
    "        with open(fname) as infile:\n",
    "            for line in infile:\n",
    "                if not \"END\" in line:\n",
    "                    outfile.write(line)\n",
    "                    \n",
    "with open('{}-{}-merged.pdb'.format(TARGET_PDB_ID,OFF_TARGET_PDB_ID)) as f:\n",
    "    view = nglview.show_file(f, ext=\"pdb\")\n",
    "    \n",
    "view"
   ]
  },
  {
   "cell_type": "code",
   "execution_count": null,
   "id": "b7c7dfba",
   "metadata": {},
   "outputs": [],
   "source": []
  }
 ],
 "metadata": {
  "kernelspec": {
   "display_name": "Python 3 (ipykernel)",
   "language": "python",
   "name": "python3"
  },
  "language_info": {
   "codemirror_mode": {
    "name": "ipython",
    "version": 3
   },
   "file_extension": ".py",
   "mimetype": "text/x-python",
   "name": "python",
   "nbconvert_exporter": "python",
   "pygments_lexer": "ipython3",
   "version": "3.9.12"
  }
 },
 "nbformat": 4,
 "nbformat_minor": 5
}
